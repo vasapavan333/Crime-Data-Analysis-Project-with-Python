{
 "cells": [
  {
   "cell_type": "code",
   "execution_count": 3,
   "metadata": {},
   "outputs": [],
   "source": [
    "#f'string {}'\n",
    "#f string conversion & format specifiers\n",
    "# f string datetime\n",
    "#Inline operation\n",
    "#Escape sequence in f string, back slash are not allowed in f string, so we need to use single ''\n",
    "#Calling functions within f string"
   ]
  },
  {
   "cell_type": "code",
   "execution_count": 4,
   "metadata": {},
   "outputs": [
    {
     "name": "stdout",
     "output_type": "stream",
     "text": [
      "Practicing how to Code is the best method for Learning python faster\n",
      "Practicing 'Code' how to 'Code' is the best method for Learning python faster\n",
      "95.26\n",
      "<class 'str'>\n",
      "<class 'str'>\n"
     ]
    }
   ],
   "source": [
    "#FORMATTING STRING LITERAL METHOD\n",
    "# f\"literal string {expression}\" \n",
    "##  Allowed conversions: !s to convert to string !r used to print with quotes\n",
    "way = \"Code\" \n",
    "method = \"Learning python faster\"\n",
    "print(f'Practicing how to {way} is the best method for {method}')\n",
    "print(f'Practicing {way!a} how to {way!r} is the best method for {method!s}')\n",
    "\n",
    "# Format specifiers e , d & f\n",
    "# String conversion\n",
    "# !f - float,  !d - digit\n",
    "number = 95.2556464\n",
    "number1 = 95\n",
    "#printing float with two decimals\n",
    "print(f\"{number:.2f}\")\n",
    "#printing the number with string\n",
    "print(type(f\"{number1!s}\"))\n",
    "print(type(f'number1!s'))"
   ]
  },
  {
   "cell_type": "code",
   "execution_count": 5,
   "metadata": {},
   "outputs": [
    {
     "name": "stdout",
     "output_type": "stream",
     "text": [
      " day %a 'Mon'\n",
      " DAY %A 'Monday'\n",
      " month %m '01'\n",
      " month %b 'Jan'\n",
      " MONTH %B 'January'\n",
      " day %d '22'\n",
      " DAY %D '01/22/24'\n",
      " year %y '24'\n",
      " YEAR %Y '2024'\n",
      " 22-Jan-24\n"
     ]
    }
   ],
   "source": [
    "#Date Formatting in python using F String : formatting the dates within F string\n",
    "from datetime import datetime\n",
    "my_today = datetime.now()\n",
    "print(f\" day %a {my_today:'%a'}\")\n",
    "print(f\" DAY %A {my_today:'%A'}\")\n",
    "print(f\" month %m {my_today:'%m'}\")\n",
    "print(f\" month %b {my_today:'%b'}\")\n",
    "print(f\" MONTH %B {my_today:'%B'}\")\n",
    "print(f\" day %d {my_today:'%d'}\")\n",
    "print(f\" DAY %D {my_today:'%D'}\")\n",
    "print(f\" year %y {my_today:'%y'}\")\n",
    "print(f\" YEAR %Y {my_today:'%Y'}\")\n",
    "print(f\"{my_today : %d-%b-%y}\")"
   ]
  },
  {
   "cell_type": "code",
   "execution_count": 6,
   "metadata": {},
   "outputs": [
    {
     "name": "stdout",
     "output_type": "stream",
     "text": [
      "my dad is called the \"John\"\n",
      "my dad is called the 'John'\n"
     ]
    }
   ],
   "source": [
    "#Escaping the sequences \n",
    "#print(\"my dad is called the \"John\"\") # This will throw the error\n",
    "print(\"my dad is called the \\\"John\\\"\") #need to use the back slash to avoid the double quotes\n",
    "print(\"my dad is called the 'John'\")"
   ]
  },
  {
   "cell_type": "code",
   "execution_count": 7,
   "metadata": {},
   "outputs": [
    {
     "name": "stdout",
     "output_type": "stream",
     "text": [
      "4 multiplied by 6 is 24\n"
     ]
    }
   ],
   "source": [
    "#in line operations of f string : performing the operations within the f string\n",
    "my_number = 4\n",
    "my_multiplier =6\n",
    "print(f'{my_number} multiplied by {my_multiplier} is {my_number * my_multiplier}')"
   ]
  },
  {
   "cell_type": "code",
   "execution_count": 8,
   "metadata": {},
   "outputs": [
    {
     "name": "stdout",
     "output_type": "stream",
     "text": [
      "if you sum up of 10 and 20 the result will be 30\n"
     ]
    }
   ],
   "source": [
    "#Calling functions inside the f string : using the function within f string\n",
    "def my_functions(a, b):\n",
    "    return a + b\n",
    "\n",
    "print(f'if you sum up of 10 and 20 the result will be {my_functions(10, 20)}')\n",
    "                 "
   ]
  }
 ],
 "metadata": {
  "kernelspec": {
   "display_name": "Python 3 (ipykernel)",
   "language": "python",
   "name": "python3"
  },
  "language_info": {
   "codemirror_mode": {
    "name": "ipython",
    "version": 3
   },
   "file_extension": ".py",
   "mimetype": "text/x-python",
   "name": "python",
   "nbconvert_exporter": "python",
   "pygments_lexer": "ipython3",
   "version": "3.11.5"
  }
 },
 "nbformat": 4,
 "nbformat_minor": 2
}
