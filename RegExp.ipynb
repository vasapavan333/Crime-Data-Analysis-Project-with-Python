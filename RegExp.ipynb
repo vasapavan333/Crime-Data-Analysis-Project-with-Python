{
 "cells": [
  {
   "cell_type": "code",
   "execution_count": 7,
   "metadata": {},
   "outputs": [
    {
     "data": {
      "text/plain": [
       "['#movies', '#movies']"
      ]
     },
     "execution_count": 7,
     "metadata": {},
     "output_type": "execute_result"
    }
   ],
   "source": [
    "import re\n",
    "#find strings\n",
    "re.findall(r'#movies', 'Love #movies! I had fun yesterday going to the #movies')"
   ]
  },
  {
   "cell_type": "code",
   "execution_count": 8,
   "metadata": {},
   "outputs": [
    {
     "data": {
      "text/plain": [
       "['Nice place to eat', ' I will come back', ' Excellent meat', '']"
      ]
     },
     "execution_count": 8,
     "metadata": {},
     "output_type": "execute_result"
    }
   ],
   "source": [
    "#split strings\n",
    "re.split(r\"!\", \"Nice place to eat! I will come back! Excellent meat!\")"
   ]
  },
  {
   "cell_type": "code",
   "execution_count": 11,
   "metadata": {},
   "outputs": [
    {
     "data": {
      "text/plain": [
       "'I have a nice car and nice house in a nice nighborhood'"
      ]
     },
     "execution_count": 11,
     "metadata": {},
     "output_type": "execute_result"
    }
   ],
   "source": [
    "#substitute string\n",
    "re.sub(r\"yellow\", \"nice\", \"I have a yellow car and yellow house in a yellow nighborhood\")"
   ]
  },
  {
   "cell_type": "code",
   "execution_count": 23,
   "metadata": {},
   "outputs": [
    {
     "name": "stdout",
     "output_type": "stream",
     "text": [
      "['User9', 'User8']\n",
      "['UserN']\n",
      "['User9', 'UserN', 'User8']\n",
      "['$5']\n"
     ]
    }
   ],
   "source": [
    "#Supported match characters\n",
    "\n",
    "# \\d -> digit  & \n",
    "x = re.findall(r'User\\d', 'The winners are: User9, UserN, User8')\n",
    "print(x)\n",
    "\n",
    "#\\D -> Non-digit\n",
    "y = re.findall(r'User\\D', 'The winners are: User9, UserN, User8')\n",
    "print(y)\n",
    "\n",
    "# \\w word match\n",
    "z = re.findall(r'User\\w', 'The winners are: User9, UserN, User8')\n",
    "print(z)\n",
    "\n",
    "# \\W non word matcher\n",
    "a = re.findall(r'\\W\\d', 'This skirt is on sale, only $5 today!')\n",
    "print(a)"
   ]
  },
  {
   "cell_type": "code",
   "execution_count": null,
   "metadata": {},
   "outputs": [],
   "source": []
  }
 ],
 "metadata": {
  "kernelspec": {
   "display_name": "Python 3 (ipykernel)",
   "language": "python",
   "name": "python3"
  },
  "language_info": {
   "codemirror_mode": {
    "name": "ipython",
    "version": 3
   },
   "file_extension": ".py",
   "mimetype": "text/x-python",
   "name": "python",
   "nbconvert_exporter": "python",
   "pygments_lexer": "ipython3",
   "version": "3.11.5"
  }
 },
 "nbformat": 4,
 "nbformat_minor": 2
}
