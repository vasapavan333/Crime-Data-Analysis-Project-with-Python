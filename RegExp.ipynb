{
 "cells": [
  {
   "cell_type": "code",
   "execution_count": 1,
   "metadata": {},
   "outputs": [
    {
     "data": {
      "text/plain": [
       "17"
      ]
     },
     "execution_count": 1,
     "metadata": {},
     "output_type": "execute_result"
    }
   ],
   "source": [
    "#String Length Function\n",
    "mystring = 'Python is Awesome'\n",
    "len(mystring)"
   ]
  },
  {
   "cell_type": "code",
   "execution_count": 4,
   "metadata": {},
   "outputs": [
    {
     "name": "stdout",
     "output_type": "stream",
     "text": [
      "123\n"
     ]
    }
   ],
   "source": [
    "#Converting number to string\n",
    "mystring = 123\n",
    "mystring = str(mystring)\n",
    "print(mystring)"
   ]
  },
  {
   "cell_type": "code",
   "execution_count": 5,
   "metadata": {},
   "outputs": [
    {
     "name": "stdout",
     "output_type": "stream",
     "text": [
      "Awesome day for biking\n"
     ]
    }
   ],
   "source": [
    "#Concatenate two strings\n",
    "my_string_1 = 'Awesome day'\n",
    "my_string_2 = 'for biking'\n",
    "print(my_string_1 + \" \" + my_string_2)"
   ]
  },
  {
   "cell_type": "code",
   "execution_count": 13,
   "metadata": {},
   "outputs": [
    {
     "name": "stdout",
     "output_type": "stream",
     "text": [
      "s\n",
      "y\n",
      "Awe\n",
      "Aweso\n",
      "me day\n",
      "Aeoedy\n",
      "yad emosewA\n"
     ]
    }
   ],
   "source": [
    "#String Indexing\n",
    "\n",
    "#inexing 4th character\n",
    "print(my_string_1[3])\n",
    "\n",
    "#indexing last character in string\n",
    "print(my_string_1[-1])\n",
    "\n",
    "#String Slicing\n",
    "\n",
    "#Slicing first 4 characters\n",
    "print(my_string_1[0:3])\n",
    "\n",
    "#Slicing till 5th character of string\n",
    "print(my_string_1[:5])\n",
    "\n",
    "#Slicing from 5th character of string to end of the string\n",
    "print(my_string_1[5:])\n",
    "\n",
    "#Stride with step value\n",
    "print(my_string_1[::2])\n",
    "\n",
    "#Reversing string with step value\n",
    "print(my_string_1[::-1])\n"
   ]
  },
  {
   "cell_type": "code",
   "execution_count": 19,
   "metadata": {},
   "outputs": [
    {
     "name": "stdout",
     "output_type": "stream",
     "text": [
      "xxa\n",
      "given word axx is not a palindrome\n"
     ]
    }
   ],
   "source": [
    "#Write a code to check if the given code is Palindrome using the string strid/step feature of slicing\n",
    "\n",
    "str = 'axx'\n",
    "palindrome = str[::-1]\n",
    "print(palindrome) \n",
    "\n",
    "if str == palindrome:\n",
    "    print(f'given word {str} is a palindrome')\n",
    "else:\n",
    "    print(f'given word {str} is not a palindrome')"
   ]
  },
  {
   "cell_type": "code",
   "execution_count": 22,
   "metadata": {},
   "outputs": [
    {
     "name": "stdout",
     "output_type": "stream",
     "text": [
      "this is a nice string\n",
      "THIS IS A NICE STRING\n"
     ]
    }
   ],
   "source": [
    "#Adjusting the cases ro uppwe case and lower case\n",
    "my_string = 'tHis Is a nIcE StRiNg'\n",
    "\n",
    "print(my_string.lower())\n",
    "print(my_string.upper())"
   ]
  },
  {
   "cell_type": "code",
   "execution_count": 27,
   "metadata": {},
   "outputs": [
    {
     "name": "stdout",
     "output_type": "stream",
     "text": [
      "['This', 'string', 'will', 'be', 'split']\n",
      "['This string will', 'be', 'split']\n",
      "['This', 'string', 'will', 'be', 'split']\n"
     ]
    }
   ],
   "source": [
    "#Splitting of the string\n",
    "#There are two methods to split the strings \n",
    "#.split(sep = ' ', maxsplit = 2) Spliting from forward\n",
    "#.rsplit(sep = ' ', maxsplit = 2) Spliting from backward\n",
    "#if max split is not specified it split as many as it can\n",
    "\n",
    "my_string = 'This string will be split'\n",
    "print(my_string.split(sep = ' ', maxsplit = 7))\n",
    "print(my_string.rsplit(sep = ' ', maxsplit = 2 ))\n",
    "print(my_string.rsplit(sep = ' '))"
   ]
  },
  {
   "cell_type": "code",
   "execution_count": 5,
   "metadata": {},
   "outputs": [
    {
     "name": "stdout",
     "output_type": "stream",
     "text": [
      "Practicing how to Code is the best method for Learning python faster\n",
      "Practicing 'Code' how to 'Code' is the best method for Learning python faster\n"
     ]
    }
   ],
   "source": [
    "way = \"Code\" \n",
    "method = \"Learning python faster\"\n",
    "print(f'Practicing how to {way} is the best method for {method}')\n",
    "print(f'Practicing {way!a} how to {way!r} is the best method for {method!s}')"
   ]
  },
  {
   "cell_type": "code",
   "execution_count": 20,
   "metadata": {},
   "outputs": [
    {
     "name": "stdout",
     "output_type": "stream",
     "text": [
      "95.26\n",
      "<class 'str'>\n",
      "<class 'str'>\n"
     ]
    }
   ],
   "source": [
    "# Format specifiers e , d & f\n",
    "# String conversion\n",
    "# !f !d\n",
    "number = 95.2556464\n",
    "number1 = 95\n",
    "print(f\"{number:.2f}\")\n",
    "print(type(f\"{number1!s}\"))\n",
    "print(type(f'number1!s'))\n"
   ]
  },
  {
   "cell_type": "code",
   "execution_count": null,
   "metadata": {},
   "outputs": [],
   "source": [
    "#f'string {}'\n",
    "#f string conversion \n",
    "# f string datetime\n",
    "#Inline operation\n",
    "#Calling functions within f string\n"
   ]
  },
  {
   "cell_type": "code",
   "execution_count": 52,
   "metadata": {},
   "outputs": [
    {
     "name": "stdout",
     "output_type": "stream",
     "text": [
      " day %a 'Mon'\n",
      " DAY %A 'Monday'\n",
      " month %m '01'\n",
      " month %b 'Jan'\n",
      " MONTH %B 'January'\n",
      " day %d '22'\n",
      " DAY %D '01/22/24'\n",
      " year %y '24'\n",
      " YEAR %Y '2024'\n",
      " 22-Jan-24\n"
     ]
    }
   ],
   "source": [
    "#Date Formatting in python using F String\n",
    "from datetime import datetime\n",
    "my_today = datetime.now()\n",
    "print(f\" day %a {my_today:'%a'}\")\n",
    "print(f\" DAY %A {my_today:'%A'}\")\n",
    "print(f\" month %m {my_today:'%m'}\")\n",
    "print(f\" month %b {my_today:'%b'}\")\n",
    "print(f\" MONTH %B {my_today:'%B'}\")\n",
    "print(f\" day %d {my_today:'%d'}\")\n",
    "print(f\" DAY %D {my_today:'%D'}\")\n",
    "print(f\" year %y {my_today:'%y'}\")\n",
    "print(f\" YEAR %Y {my_today:'%Y'}\")\n",
    "print(f\"{my_today : %d-%b-%y}\")\n"
   ]
  },
  {
   "cell_type": "code",
   "execution_count": null,
   "metadata": {},
   "outputs": [],
   "source": []
  }
 ],
 "metadata": {
  "kernelspec": {
   "display_name": "Python 3 (ipykernel)",
   "language": "python",
   "name": "python3"
  },
  "language_info": {
   "codemirror_mode": {
    "name": "ipython",
    "version": 3
   },
   "file_extension": ".py",
   "mimetype": "text/x-python",
   "name": "python",
   "nbconvert_exporter": "python",
   "pygments_lexer": "ipython3",
   "version": "3.11.5"
  }
 },
 "nbformat": 4,
 "nbformat_minor": 2
}
