{
 "cells": [
  {
   "cell_type": "code",
   "execution_count": 2,
   "metadata": {},
   "outputs": [
    {
     "data": {
      "text/plain": [
       "17"
      ]
     },
     "execution_count": 2,
     "metadata": {},
     "output_type": "execute_result"
    }
   ],
   "source": [
    "#String Length Function\n",
    "mystring = 'Python is Awesome'\n",
    "len(mystring)"
   ]
  },
  {
   "cell_type": "code",
   "execution_count": 64,
   "metadata": {},
   "outputs": [
    {
     "name": "stdout",
     "output_type": "stream",
     "text": [
      "123\n"
     ]
    }
   ],
   "source": [
    "#Converting number to string\n",
    "mystring = 123\n",
    "mystring = str(mystring)\n",
    "print(mystring)"
   ]
  },
  {
   "cell_type": "code",
   "execution_count": 65,
   "metadata": {},
   "outputs": [
    {
     "name": "stdout",
     "output_type": "stream",
     "text": [
      "Awesome day for biking\n"
     ]
    }
   ],
   "source": [
    "#Concatenate two strings\n",
    "my_string_1 = 'Awesome day'\n",
    "my_string_2 = 'for biking'\n",
    "print(my_string_1 + \" \" + my_string_2)"
   ]
  },
  {
   "cell_type": "code",
   "execution_count": 66,
   "metadata": {},
   "outputs": [
    {
     "name": "stdout",
     "output_type": "stream",
     "text": [
      "s\n",
      "y\n",
      "Awe\n",
      "Aweso\n",
      "me day\n",
      "Aeoedy\n",
      "yad emosewA\n"
     ]
    }
   ],
   "source": [
    "#String Indexing\n",
    "\n",
    "#inexing 4th character\n",
    "print(my_string_1[3])\n",
    "\n",
    "#indexing last character in string\n",
    "print(my_string_1[-1])\n",
    "\n",
    "#String Slicing\n",
    "\n",
    "#Slicing first 4 characters\n",
    "print(my_string_1[0:3])\n",
    "\n",
    "#Slicing till 5th character of string\n",
    "print(my_string_1[:5])\n",
    "\n",
    "#Slicing from 5th character of string to end of the string\n",
    "print(my_string_1[5:])\n",
    "\n",
    "#Stride with step value\n",
    "print(my_string_1[::2])\n",
    "\n",
    "#Reversing string with step value\n",
    "print(my_string_1[::-1])\n"
   ]
  },
  {
   "cell_type": "code",
   "execution_count": 67,
   "metadata": {},
   "outputs": [
    {
     "name": "stdout",
     "output_type": "stream",
     "text": [
      "xxa\n",
      "given word axx is not a palindrome\n"
     ]
    }
   ],
   "source": [
    "#Write a code to check if the given code is Palindrome using the string strid/step feature of slicing\n",
    "\n",
    "str = 'axx'\n",
    "palindrome = str[::-1]\n",
    "print(palindrome) \n",
    "\n",
    "if str == palindrome:\n",
    "    print(f'given word {str} is a palindrome')\n",
    "else:\n",
    "    print(f'given word {str} is not a palindrome')"
   ]
  },
  {
   "cell_type": "code",
   "execution_count": 68,
   "metadata": {},
   "outputs": [
    {
     "name": "stdout",
     "output_type": "stream",
     "text": [
      "this is a nice string\n",
      "THIS IS A NICE STRING\n"
     ]
    }
   ],
   "source": [
    "#Adjusting the cases ro uppwe case and lower case\n",
    "my_string = 'tHis Is a nIcE StRiNg'\n",
    "\n",
    "print(my_string.lower())\n",
    "print(my_string.upper())"
   ]
  },
  {
   "cell_type": "code",
   "execution_count": 69,
   "metadata": {},
   "outputs": [
    {
     "name": "stdout",
     "output_type": "stream",
     "text": [
      "['This', 'string', 'will', 'be', 'split']\n",
      "['This string will', 'be', 'split']\n",
      "['This', 'string', 'will', 'be', 'split']\n"
     ]
    }
   ],
   "source": [
    "#Splitting of the string\n",
    "#There are two methods to split the strings \n",
    "#.split(sep = ' ', maxsplit = 2) Spliting from forward\n",
    "#.rsplit(sep = ' ', maxsplit = 2) Spliting from backward\n",
    "#if max split is not specified it split as many as it can\n",
    "\n",
    "my_string = 'This string will be split'\n",
    "print(my_string.split(sep = ' ', maxsplit = 7))\n",
    "print(my_string.rsplit(sep = ' ', maxsplit = 2 ))\n",
    "print(my_string.rsplit(sep = ' '))"
   ]
  }
 ],
 "metadata": {
  "kernelspec": {
   "display_name": "Python 3 (ipykernel)",
   "language": "python",
   "name": "python3"
  },
  "language_info": {
   "codemirror_mode": {
    "name": "ipython",
    "version": 3
   },
   "file_extension": ".py",
   "mimetype": "text/x-python",
   "name": "python",
   "nbconvert_exporter": "python",
   "pygments_lexer": "ipython3",
   "version": "3.11.5"
  }
 },
 "nbformat": 4,
 "nbformat_minor": 2
}
